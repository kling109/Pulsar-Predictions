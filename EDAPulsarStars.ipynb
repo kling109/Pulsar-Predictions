{
 "cells": [
  {
   "cell_type": "code",
   "execution_count": 47,
   "metadata": {},
   "outputs": [],
   "source": [
    "import numpy as np\n",
    "import pandas as pd\n",
    "import matplotlib.pyplot as plt\n",
    "from sklearn.discriminant_analysis import LinearDiscriminantAnalysis\n",
    "from sklearn.decomposition import PCA"
   ]
  },
  {
   "cell_type": "markdown",
   "metadata": {},
   "source": [
    "# Exploratory Data Analysis: Identifying Pulsar Stars"
   ]
  },
  {
   "cell_type": "markdown",
   "metadata": {},
   "source": [
    "Name: Trevor Kling\n",
    "\n",
    "Course: CPSC 392 - Introduction to Data Science\n",
    "\n",
    "Last Date Modified: 12/03/2019\n",
    "\n",
    "## Introduction\n",
    "A \"pulsar\" is a rare type of neutron star that emits electromagnetic radiation which is perceptible from Earth.  However, like any radiation from space, this is accompanied by a large degree of cosmic background radiation which can make it difficult to percieve where and when pulsars occur.  The following data set documents a variety of stars which met conditions to be pulsars, as well as labels for these stars which indicate whether they truly were pulsars.  Pulsars offer the ability to document a variety of large-scale cosmic phenomena like gravitational waves or the curvature of spacetime.  Thus, being able to correctly identify where pulsars exist is an important question to astronomers."
   ]
  },
  {
   "cell_type": "markdown",
   "metadata": {},
   "source": [
    "## Importing the Data Set\n",
    "\n",
    "The dataset used for this analysis was obtained from the paper \"Fifty Years of Pulsar Candidate Selection: From simple filters to a new principled real-time classification approach\" by R. J. Lyon et al., originally published in Monthly Notices of the Royal Astronomical Society 459 [[1](https://arxiv.org/pdf/1603.05166.pdf)].  The actual files were retreived from the UCI Machine Learning Database at https://archive.ics.uci.edu/ml/datasets/HTRU2 on 12/3/2019."
   ]
  },
  {
   "cell_type": "code",
   "execution_count": 48,
   "metadata": {},
   "outputs": [],
   "source": [
    "data = pd.read_csv(\"pulsar_stars.csv\", header=0)"
   ]
  },
  {
   "cell_type": "code",
   "execution_count": 49,
   "metadata": {},
   "outputs": [
    {
     "data": {
      "text/html": [
       "<div>\n",
       "<style scoped>\n",
       "    .dataframe tbody tr th:only-of-type {\n",
       "        vertical-align: middle;\n",
       "    }\n",
       "\n",
       "    .dataframe tbody tr th {\n",
       "        vertical-align: top;\n",
       "    }\n",
       "\n",
       "    .dataframe thead th {\n",
       "        text-align: right;\n",
       "    }\n",
       "</style>\n",
       "<table border=\"1\" class=\"dataframe\">\n",
       "  <thead>\n",
       "    <tr style=\"text-align: right;\">\n",
       "      <th></th>\n",
       "      <th>Mean of the integrated profile</th>\n",
       "      <th>Standard deviation of the integrated profile</th>\n",
       "      <th>Excess kurtosis of the integrated profile</th>\n",
       "      <th>Skewness of the integrated profile</th>\n",
       "      <th>Mean of the DM-SNR curve</th>\n",
       "      <th>Standard deviation of the DM-SNR curve</th>\n",
       "      <th>Excess kurtosis of the DM-SNR curve</th>\n",
       "      <th>Skewness of the DM-SNR curve</th>\n",
       "      <th>target_class</th>\n",
       "    </tr>\n",
       "  </thead>\n",
       "  <tbody>\n",
       "    <tr>\n",
       "      <th>0</th>\n",
       "      <td>140.562500</td>\n",
       "      <td>55.683782</td>\n",
       "      <td>-0.234571</td>\n",
       "      <td>-0.699648</td>\n",
       "      <td>3.199833</td>\n",
       "      <td>19.110426</td>\n",
       "      <td>7.975532</td>\n",
       "      <td>74.242225</td>\n",
       "      <td>0</td>\n",
       "    </tr>\n",
       "    <tr>\n",
       "      <th>1</th>\n",
       "      <td>102.507812</td>\n",
       "      <td>58.882430</td>\n",
       "      <td>0.465318</td>\n",
       "      <td>-0.515088</td>\n",
       "      <td>1.677258</td>\n",
       "      <td>14.860146</td>\n",
       "      <td>10.576487</td>\n",
       "      <td>127.393580</td>\n",
       "      <td>0</td>\n",
       "    </tr>\n",
       "    <tr>\n",
       "      <th>2</th>\n",
       "      <td>103.015625</td>\n",
       "      <td>39.341649</td>\n",
       "      <td>0.323328</td>\n",
       "      <td>1.051164</td>\n",
       "      <td>3.121237</td>\n",
       "      <td>21.744669</td>\n",
       "      <td>7.735822</td>\n",
       "      <td>63.171909</td>\n",
       "      <td>0</td>\n",
       "    </tr>\n",
       "    <tr>\n",
       "      <th>3</th>\n",
       "      <td>136.750000</td>\n",
       "      <td>57.178449</td>\n",
       "      <td>-0.068415</td>\n",
       "      <td>-0.636238</td>\n",
       "      <td>3.642977</td>\n",
       "      <td>20.959280</td>\n",
       "      <td>6.896499</td>\n",
       "      <td>53.593661</td>\n",
       "      <td>0</td>\n",
       "    </tr>\n",
       "    <tr>\n",
       "      <th>4</th>\n",
       "      <td>88.726562</td>\n",
       "      <td>40.672225</td>\n",
       "      <td>0.600866</td>\n",
       "      <td>1.123492</td>\n",
       "      <td>1.178930</td>\n",
       "      <td>11.468720</td>\n",
       "      <td>14.269573</td>\n",
       "      <td>252.567306</td>\n",
       "      <td>0</td>\n",
       "    </tr>\n",
       "    <tr>\n",
       "      <th>...</th>\n",
       "      <td>...</td>\n",
       "      <td>...</td>\n",
       "      <td>...</td>\n",
       "      <td>...</td>\n",
       "      <td>...</td>\n",
       "      <td>...</td>\n",
       "      <td>...</td>\n",
       "      <td>...</td>\n",
       "      <td>...</td>\n",
       "    </tr>\n",
       "    <tr>\n",
       "      <th>17893</th>\n",
       "      <td>136.429688</td>\n",
       "      <td>59.847421</td>\n",
       "      <td>-0.187846</td>\n",
       "      <td>-0.738123</td>\n",
       "      <td>1.296823</td>\n",
       "      <td>12.166062</td>\n",
       "      <td>15.450260</td>\n",
       "      <td>285.931022</td>\n",
       "      <td>0</td>\n",
       "    </tr>\n",
       "    <tr>\n",
       "      <th>17894</th>\n",
       "      <td>122.554688</td>\n",
       "      <td>49.485605</td>\n",
       "      <td>0.127978</td>\n",
       "      <td>0.323061</td>\n",
       "      <td>16.409699</td>\n",
       "      <td>44.626893</td>\n",
       "      <td>2.945244</td>\n",
       "      <td>8.297092</td>\n",
       "      <td>0</td>\n",
       "    </tr>\n",
       "    <tr>\n",
       "      <th>17895</th>\n",
       "      <td>119.335938</td>\n",
       "      <td>59.935939</td>\n",
       "      <td>0.159363</td>\n",
       "      <td>-0.743025</td>\n",
       "      <td>21.430602</td>\n",
       "      <td>58.872000</td>\n",
       "      <td>2.499517</td>\n",
       "      <td>4.595173</td>\n",
       "      <td>0</td>\n",
       "    </tr>\n",
       "    <tr>\n",
       "      <th>17896</th>\n",
       "      <td>114.507812</td>\n",
       "      <td>53.902400</td>\n",
       "      <td>0.201161</td>\n",
       "      <td>-0.024789</td>\n",
       "      <td>1.946488</td>\n",
       "      <td>13.381731</td>\n",
       "      <td>10.007967</td>\n",
       "      <td>134.238910</td>\n",
       "      <td>0</td>\n",
       "    </tr>\n",
       "    <tr>\n",
       "      <th>17897</th>\n",
       "      <td>57.062500</td>\n",
       "      <td>85.797340</td>\n",
       "      <td>1.406391</td>\n",
       "      <td>0.089520</td>\n",
       "      <td>188.306020</td>\n",
       "      <td>64.712562</td>\n",
       "      <td>-1.597527</td>\n",
       "      <td>1.429475</td>\n",
       "      <td>0</td>\n",
       "    </tr>\n",
       "  </tbody>\n",
       "</table>\n",
       "<p>17898 rows × 9 columns</p>\n",
       "</div>"
      ],
      "text/plain": [
       "        Mean of the integrated profile  \\\n",
       "0                           140.562500   \n",
       "1                           102.507812   \n",
       "2                           103.015625   \n",
       "3                           136.750000   \n",
       "4                            88.726562   \n",
       "...                                ...   \n",
       "17893                       136.429688   \n",
       "17894                       122.554688   \n",
       "17895                       119.335938   \n",
       "17896                       114.507812   \n",
       "17897                        57.062500   \n",
       "\n",
       "        Standard deviation of the integrated profile  \\\n",
       "0                                          55.683782   \n",
       "1                                          58.882430   \n",
       "2                                          39.341649   \n",
       "3                                          57.178449   \n",
       "4                                          40.672225   \n",
       "...                                              ...   \n",
       "17893                                      59.847421   \n",
       "17894                                      49.485605   \n",
       "17895                                      59.935939   \n",
       "17896                                      53.902400   \n",
       "17897                                      85.797340   \n",
       "\n",
       "        Excess kurtosis of the integrated profile  \\\n",
       "0                                       -0.234571   \n",
       "1                                        0.465318   \n",
       "2                                        0.323328   \n",
       "3                                       -0.068415   \n",
       "4                                        0.600866   \n",
       "...                                           ...   \n",
       "17893                                   -0.187846   \n",
       "17894                                    0.127978   \n",
       "17895                                    0.159363   \n",
       "17896                                    0.201161   \n",
       "17897                                    1.406391   \n",
       "\n",
       "        Skewness of the integrated profile   Mean of the DM-SNR curve  \\\n",
       "0                                -0.699648                   3.199833   \n",
       "1                                -0.515088                   1.677258   \n",
       "2                                 1.051164                   3.121237   \n",
       "3                                -0.636238                   3.642977   \n",
       "4                                 1.123492                   1.178930   \n",
       "...                                    ...                        ...   \n",
       "17893                            -0.738123                   1.296823   \n",
       "17894                             0.323061                  16.409699   \n",
       "17895                            -0.743025                  21.430602   \n",
       "17896                            -0.024789                   1.946488   \n",
       "17897                             0.089520                 188.306020   \n",
       "\n",
       "        Standard deviation of the DM-SNR curve  \\\n",
       "0                                    19.110426   \n",
       "1                                    14.860146   \n",
       "2                                    21.744669   \n",
       "3                                    20.959280   \n",
       "4                                    11.468720   \n",
       "...                                        ...   \n",
       "17893                                12.166062   \n",
       "17894                                44.626893   \n",
       "17895                                58.872000   \n",
       "17896                                13.381731   \n",
       "17897                                64.712562   \n",
       "\n",
       "        Excess kurtosis of the DM-SNR curve   Skewness of the DM-SNR curve  \\\n",
       "0                                  7.975532                      74.242225   \n",
       "1                                 10.576487                     127.393580   \n",
       "2                                  7.735822                      63.171909   \n",
       "3                                  6.896499                      53.593661   \n",
       "4                                 14.269573                     252.567306   \n",
       "...                                     ...                            ...   \n",
       "17893                             15.450260                     285.931022   \n",
       "17894                              2.945244                       8.297092   \n",
       "17895                              2.499517                       4.595173   \n",
       "17896                             10.007967                     134.238910   \n",
       "17897                             -1.597527                       1.429475   \n",
       "\n",
       "       target_class  \n",
       "0                 0  \n",
       "1                 0  \n",
       "2                 0  \n",
       "3                 0  \n",
       "4                 0  \n",
       "...             ...  \n",
       "17893             0  \n",
       "17894             0  \n",
       "17895             0  \n",
       "17896             0  \n",
       "17897             0  \n",
       "\n",
       "[17898 rows x 9 columns]"
      ]
     },
     "execution_count": 49,
     "metadata": {},
     "output_type": "execute_result"
    }
   ],
   "source": [
    "data"
   ]
  },
  {
   "cell_type": "markdown",
   "metadata": {},
   "source": [
    "The dataset includes a variety of extended statistics, such as the mean, the standard deviation, the kurtosis, and the skewness.  The primary goal of the dataset is to allow for the production of a model of these pulsars based on these statistics."
   ]
  },
  {
   "cell_type": "markdown",
   "metadata": {},
   "source": [
    "## Analysis: Basic Trends\n",
    "\n",
    "The first questions of interest simply relate to understanding the data set as a whole."
   ]
  },
  {
   "cell_type": "markdown",
   "metadata": {},
   "source": [
    "### Data Set Size and Types"
   ]
  },
  {
   "cell_type": "code",
   "execution_count": 50,
   "metadata": {},
   "outputs": [
    {
     "data": {
      "text/plain": [
       "(17898, 9)"
      ]
     },
     "execution_count": 50,
     "metadata": {},
     "output_type": "execute_result"
    }
   ],
   "source": [
    "data.shape"
   ]
  },
  {
   "cell_type": "markdown",
   "metadata": {},
   "source": [
    "The pandas `shape` attribute gives us the dimensions of our data matrix.  From this, we can clearly see that there are 17898 rows (or entries) and 9 columns (or attributes)."
   ]
  },
  {
   "cell_type": "markdown",
   "metadata": {},
   "source": [
    "### Breaking Down the Attributes"
   ]
  },
  {
   "cell_type": "markdown",
   "metadata": {},
   "source": [
    "The data contained in this data matrix can be widely classified in two types; those relating to the integrated profile, and those relating to the DM-SNR curve.\n",
    "\n",
    "#### The Integrated Profile\n",
    "\n",
    "The *integrated profile*, or more formally the *integrated pulse profile*, can be thought of as a pulsar's cosmic fingerprint [[2](http://ipta.phys.wvu.edu/files/student-week-2017/IPTA2017_KuoLiu_pulsartiming.pdf)].  A pulsar generates periodic pulsation signals as it rotates, but each individual signal is often too weak to detect and can vary greatly in shape.  Instead, we integrate over a large number of instantaneous pulse periods to gain an overall profile of what the emissions from the pulsar look like over a substantial periood of time [[3](https://www.cv.nrao.edu/course/astr534/PulsarTiming.html)].  This allows us to determine an average pulse, which is relatively stable with changes in time.  These profiles can be simple or complex, and allow us to identify pulsars by only their radiation.\n",
    "\n",
    "#### DM-SNR Curve\n",
    "\n",
    "The *Dispersion Measure-Signal to Noise Ratio Curve*, or *DM-SNR Curve* for short, is another way of classifying a pulsar.  When the pulsar emits electromagnetic radiation, the dispersion by free electrons in the interstellar medium (a bunch of plasma, made up of ionized electrons and other small particles) causes a frequency dependent delay in the radiation as it propagates through the interstellar medium. This causes pulsar emissions to become temporally distorted, by an amount proportional to a quantity called the Dispersion Measure.  This is roughly the density of free electrons between our observatory and the pulsar, in a straight line.  Importantly, for a pulsar, minimizing this Dispersion Measure also corresponds to increasing the Signal to Noise ratio of the received radiation."
   ]
  },
  {
   "cell_type": "markdown",
   "metadata": {},
   "source": [
    "#### The Actual Attributes\n",
    "\n",
    "In the data set, both the Integrated Profile and the DM-SNR curve have 4 attributes; *Mean*, *Standard Deviation*, *Excess Kurtosis*, and *Skewness*.  The mean and standard deviation are exactly what you would expect; they're the arithmetic mean and standard deviation of the observed values.  The kurtosis and skewness may be less familiar; these are what are known as *shape* summary statistics.  Both of these variables describe the shape of a probability distrobution for the given instance; a high kurtosis indicates the presence of many outliers, and a large skewness indicates a longer tail on one side of the distrobution.\n",
    "\n",
    "![Example of Skew](https://upload.wikimedia.org/wikipedia/commons/f/f8/Negative_and_positive_skew_diagrams_%28English%29.svg)\n",
    "\n",
    "**Figure 1: An Example of Skew [[4](https://en.wikipedia.org/wiki/Skewness)]**"
   ]
  },
  {
   "cell_type": "markdown",
   "metadata": {},
   "source": [
    "### Checking for Missing Values"
   ]
  },
  {
   "cell_type": "code",
   "execution_count": 51,
   "metadata": {},
   "outputs": [
    {
     "name": "stdout",
     "output_type": "stream",
     "text": [
      "Empty DataFrame\n",
      "Columns: [ Mean of the integrated profile,  Standard deviation of the integrated profile,  Excess kurtosis of the integrated profile,  Skewness of the integrated profile,  Mean of the DM-SNR curve,  Standard deviation of the DM-SNR curve,  Excess kurtosis of the DM-SNR curve,  Skewness of the DM-SNR curve, target_class]\n",
      "Index: []\n"
     ]
    }
   ],
   "source": [
    "nulls = data[data.isnull().any(axis=1)]\n",
    "print(nulls)"
   ]
  },
  {
   "cell_type": "markdown",
   "metadata": {},
   "source": [
    "There are no entries in this data set which contain null values.  This is unsurprising, as this data set was produced for scientific study based on averages and has likely already undergone basic analysis."
   ]
  },
  {
   "cell_type": "markdown",
   "metadata": {},
   "source": [
    "## Extended Analysis: Preferred Indicator\n",
    "\n",
    "As the data set presents us with two groups of similar attributes, a natural question is which group provides a better indicator that a particular instance is a pulsar.  One method of determining this is to look at the summary statistics within the set of instances that *are* pulsars versus the summary statistics of those that *are not* pulsars.  For a good discriminator, the expectation would be observably different mean values with low standard deviations; in other words, the distrobutions of each should have little overlap.\n",
    "\n",
    "First, let's split the data into two sets; those that are pulsars, and those that are not."
   ]
  },
  {
   "cell_type": "code",
   "execution_count": 52,
   "metadata": {},
   "outputs": [],
   "source": [
    "pulsars_data = data[data[\"target_class\"] == 1]\n",
    "other_data = data[data[\"target_class\"] == 0]"
   ]
  },
  {
   "cell_type": "code",
   "execution_count": 53,
   "metadata": {},
   "outputs": [
    {
     "data": {
      "text/html": [
       "<div>\n",
       "<style scoped>\n",
       "    .dataframe tbody tr th:only-of-type {\n",
       "        vertical-align: middle;\n",
       "    }\n",
       "\n",
       "    .dataframe tbody tr th {\n",
       "        vertical-align: top;\n",
       "    }\n",
       "\n",
       "    .dataframe thead th {\n",
       "        text-align: right;\n",
       "    }\n",
       "</style>\n",
       "<table border=\"1\" class=\"dataframe\">\n",
       "  <thead>\n",
       "    <tr style=\"text-align: right;\">\n",
       "      <th></th>\n",
       "      <th>Mean of the integrated profile</th>\n",
       "      <th>Standard deviation of the integrated profile</th>\n",
       "      <th>Excess kurtosis of the integrated profile</th>\n",
       "      <th>Skewness of the integrated profile</th>\n",
       "      <th>Mean of the DM-SNR curve</th>\n",
       "      <th>Standard deviation of the DM-SNR curve</th>\n",
       "      <th>Excess kurtosis of the DM-SNR curve</th>\n",
       "      <th>Skewness of the DM-SNR curve</th>\n",
       "      <th>target_class</th>\n",
       "    </tr>\n",
       "  </thead>\n",
       "  <tbody>\n",
       "    <tr>\n",
       "      <th>19</th>\n",
       "      <td>99.367188</td>\n",
       "      <td>41.572202</td>\n",
       "      <td>1.547197</td>\n",
       "      <td>4.154106</td>\n",
       "      <td>27.555184</td>\n",
       "      <td>61.719016</td>\n",
       "      <td>2.208808</td>\n",
       "      <td>3.662680</td>\n",
       "      <td>1</td>\n",
       "    </tr>\n",
       "    <tr>\n",
       "      <th>42</th>\n",
       "      <td>120.554688</td>\n",
       "      <td>45.549905</td>\n",
       "      <td>0.282924</td>\n",
       "      <td>0.419909</td>\n",
       "      <td>1.358696</td>\n",
       "      <td>13.079034</td>\n",
       "      <td>13.312141</td>\n",
       "      <td>212.597029</td>\n",
       "      <td>1</td>\n",
       "    </tr>\n",
       "    <tr>\n",
       "      <th>61</th>\n",
       "      <td>27.765625</td>\n",
       "      <td>28.666042</td>\n",
       "      <td>5.770087</td>\n",
       "      <td>37.419009</td>\n",
       "      <td>73.112876</td>\n",
       "      <td>62.070220</td>\n",
       "      <td>1.268206</td>\n",
       "      <td>1.082920</td>\n",
       "      <td>1</td>\n",
       "    </tr>\n",
       "    <tr>\n",
       "      <th>92</th>\n",
       "      <td>23.625000</td>\n",
       "      <td>29.948654</td>\n",
       "      <td>5.688038</td>\n",
       "      <td>35.987172</td>\n",
       "      <td>146.568562</td>\n",
       "      <td>82.394624</td>\n",
       "      <td>-0.274902</td>\n",
       "      <td>-1.121848</td>\n",
       "      <td>1</td>\n",
       "    </tr>\n",
       "    <tr>\n",
       "      <th>93</th>\n",
       "      <td>94.585938</td>\n",
       "      <td>35.779823</td>\n",
       "      <td>1.187309</td>\n",
       "      <td>3.687469</td>\n",
       "      <td>6.071070</td>\n",
       "      <td>29.760400</td>\n",
       "      <td>5.318767</td>\n",
       "      <td>28.698048</td>\n",
       "      <td>1</td>\n",
       "    </tr>\n",
       "    <tr>\n",
       "      <th>...</th>\n",
       "      <td>...</td>\n",
       "      <td>...</td>\n",
       "      <td>...</td>\n",
       "      <td>...</td>\n",
       "      <td>...</td>\n",
       "      <td>...</td>\n",
       "      <td>...</td>\n",
       "      <td>...</td>\n",
       "      <td>...</td>\n",
       "    </tr>\n",
       "    <tr>\n",
       "      <th>17515</th>\n",
       "      <td>89.867188</td>\n",
       "      <td>47.482295</td>\n",
       "      <td>1.591325</td>\n",
       "      <td>2.505057</td>\n",
       "      <td>0.763378</td>\n",
       "      <td>12.393561</td>\n",
       "      <td>17.940745</td>\n",
       "      <td>333.902631</td>\n",
       "      <td>1</td>\n",
       "    </tr>\n",
       "    <tr>\n",
       "      <th>17529</th>\n",
       "      <td>27.039062</td>\n",
       "      <td>33.754722</td>\n",
       "      <td>4.779124</td>\n",
       "      <td>26.255357</td>\n",
       "      <td>129.863712</td>\n",
       "      <td>78.815440</td>\n",
       "      <td>-0.348492</td>\n",
       "      <td>-0.893791</td>\n",
       "      <td>1</td>\n",
       "    </tr>\n",
       "    <tr>\n",
       "      <th>17558</th>\n",
       "      <td>77.070312</td>\n",
       "      <td>39.000638</td>\n",
       "      <td>1.884421</td>\n",
       "      <td>6.372178</td>\n",
       "      <td>38.517559</td>\n",
       "      <td>65.741059</td>\n",
       "      <td>1.589513</td>\n",
       "      <td>1.285346</td>\n",
       "      <td>1</td>\n",
       "    </tr>\n",
       "    <tr>\n",
       "      <th>17642</th>\n",
       "      <td>28.375000</td>\n",
       "      <td>27.649311</td>\n",
       "      <td>6.377273</td>\n",
       "      <td>45.944048</td>\n",
       "      <td>141.860368</td>\n",
       "      <td>82.893017</td>\n",
       "      <td>-0.477222</td>\n",
       "      <td>-1.067880</td>\n",
       "      <td>1</td>\n",
       "    </tr>\n",
       "    <tr>\n",
       "      <th>17876</th>\n",
       "      <td>111.765625</td>\n",
       "      <td>52.943585</td>\n",
       "      <td>0.671724</td>\n",
       "      <td>0.383594</td>\n",
       "      <td>149.843646</td>\n",
       "      <td>97.926948</td>\n",
       "      <td>-0.696153</td>\n",
       "      <td>-1.260403</td>\n",
       "      <td>1</td>\n",
       "    </tr>\n",
       "  </tbody>\n",
       "</table>\n",
       "<p>1639 rows × 9 columns</p>\n",
       "</div>"
      ],
      "text/plain": [
       "        Mean of the integrated profile  \\\n",
       "19                           99.367188   \n",
       "42                          120.554688   \n",
       "61                           27.765625   \n",
       "92                           23.625000   \n",
       "93                           94.585938   \n",
       "...                                ...   \n",
       "17515                        89.867188   \n",
       "17529                        27.039062   \n",
       "17558                        77.070312   \n",
       "17642                        28.375000   \n",
       "17876                       111.765625   \n",
       "\n",
       "        Standard deviation of the integrated profile  \\\n",
       "19                                         41.572202   \n",
       "42                                         45.549905   \n",
       "61                                         28.666042   \n",
       "92                                         29.948654   \n",
       "93                                         35.779823   \n",
       "...                                              ...   \n",
       "17515                                      47.482295   \n",
       "17529                                      33.754722   \n",
       "17558                                      39.000638   \n",
       "17642                                      27.649311   \n",
       "17876                                      52.943585   \n",
       "\n",
       "        Excess kurtosis of the integrated profile  \\\n",
       "19                                       1.547197   \n",
       "42                                       0.282924   \n",
       "61                                       5.770087   \n",
       "92                                       5.688038   \n",
       "93                                       1.187309   \n",
       "...                                           ...   \n",
       "17515                                    1.591325   \n",
       "17529                                    4.779124   \n",
       "17558                                    1.884421   \n",
       "17642                                    6.377273   \n",
       "17876                                    0.671724   \n",
       "\n",
       "        Skewness of the integrated profile   Mean of the DM-SNR curve  \\\n",
       "19                                4.154106                  27.555184   \n",
       "42                                0.419909                   1.358696   \n",
       "61                               37.419009                  73.112876   \n",
       "92                               35.987172                 146.568562   \n",
       "93                                3.687469                   6.071070   \n",
       "...                                    ...                        ...   \n",
       "17515                             2.505057                   0.763378   \n",
       "17529                            26.255357                 129.863712   \n",
       "17558                             6.372178                  38.517559   \n",
       "17642                            45.944048                 141.860368   \n",
       "17876                             0.383594                 149.843646   \n",
       "\n",
       "        Standard deviation of the DM-SNR curve  \\\n",
       "19                                   61.719016   \n",
       "42                                   13.079034   \n",
       "61                                   62.070220   \n",
       "92                                   82.394624   \n",
       "93                                   29.760400   \n",
       "...                                        ...   \n",
       "17515                                12.393561   \n",
       "17529                                78.815440   \n",
       "17558                                65.741059   \n",
       "17642                                82.893017   \n",
       "17876                                97.926948   \n",
       "\n",
       "        Excess kurtosis of the DM-SNR curve   Skewness of the DM-SNR curve  \\\n",
       "19                                 2.208808                       3.662680   \n",
       "42                                13.312141                     212.597029   \n",
       "61                                 1.268206                       1.082920   \n",
       "92                                -0.274902                      -1.121848   \n",
       "93                                 5.318767                      28.698048   \n",
       "...                                     ...                            ...   \n",
       "17515                             17.940745                     333.902631   \n",
       "17529                             -0.348492                      -0.893791   \n",
       "17558                              1.589513                       1.285346   \n",
       "17642                             -0.477222                      -1.067880   \n",
       "17876                             -0.696153                      -1.260403   \n",
       "\n",
       "       target_class  \n",
       "19                1  \n",
       "42                1  \n",
       "61                1  \n",
       "92                1  \n",
       "93                1  \n",
       "...             ...  \n",
       "17515             1  \n",
       "17529             1  \n",
       "17558             1  \n",
       "17642             1  \n",
       "17876             1  \n",
       "\n",
       "[1639 rows x 9 columns]"
      ]
     },
     "execution_count": 53,
     "metadata": {},
     "output_type": "execute_result"
    }
   ],
   "source": [
    "pulsars_data"
   ]
  },
  {
   "cell_type": "code",
   "execution_count": 54,
   "metadata": {},
   "outputs": [
    {
     "data": {
      "text/html": [
       "<div>\n",
       "<style scoped>\n",
       "    .dataframe tbody tr th:only-of-type {\n",
       "        vertical-align: middle;\n",
       "    }\n",
       "\n",
       "    .dataframe tbody tr th {\n",
       "        vertical-align: top;\n",
       "    }\n",
       "\n",
       "    .dataframe thead th {\n",
       "        text-align: right;\n",
       "    }\n",
       "</style>\n",
       "<table border=\"1\" class=\"dataframe\">\n",
       "  <thead>\n",
       "    <tr style=\"text-align: right;\">\n",
       "      <th></th>\n",
       "      <th>Mean of the integrated profile</th>\n",
       "      <th>Standard deviation of the integrated profile</th>\n",
       "      <th>Excess kurtosis of the integrated profile</th>\n",
       "      <th>Skewness of the integrated profile</th>\n",
       "      <th>Mean of the DM-SNR curve</th>\n",
       "      <th>Standard deviation of the DM-SNR curve</th>\n",
       "      <th>Excess kurtosis of the DM-SNR curve</th>\n",
       "      <th>Skewness of the DM-SNR curve</th>\n",
       "      <th>target_class</th>\n",
       "    </tr>\n",
       "  </thead>\n",
       "  <tbody>\n",
       "    <tr>\n",
       "      <th>0</th>\n",
       "      <td>140.562500</td>\n",
       "      <td>55.683782</td>\n",
       "      <td>-0.234571</td>\n",
       "      <td>-0.699648</td>\n",
       "      <td>3.199833</td>\n",
       "      <td>19.110426</td>\n",
       "      <td>7.975532</td>\n",
       "      <td>74.242225</td>\n",
       "      <td>0</td>\n",
       "    </tr>\n",
       "    <tr>\n",
       "      <th>1</th>\n",
       "      <td>102.507812</td>\n",
       "      <td>58.882430</td>\n",
       "      <td>0.465318</td>\n",
       "      <td>-0.515088</td>\n",
       "      <td>1.677258</td>\n",
       "      <td>14.860146</td>\n",
       "      <td>10.576487</td>\n",
       "      <td>127.393580</td>\n",
       "      <td>0</td>\n",
       "    </tr>\n",
       "    <tr>\n",
       "      <th>2</th>\n",
       "      <td>103.015625</td>\n",
       "      <td>39.341649</td>\n",
       "      <td>0.323328</td>\n",
       "      <td>1.051164</td>\n",
       "      <td>3.121237</td>\n",
       "      <td>21.744669</td>\n",
       "      <td>7.735822</td>\n",
       "      <td>63.171909</td>\n",
       "      <td>0</td>\n",
       "    </tr>\n",
       "    <tr>\n",
       "      <th>3</th>\n",
       "      <td>136.750000</td>\n",
       "      <td>57.178449</td>\n",
       "      <td>-0.068415</td>\n",
       "      <td>-0.636238</td>\n",
       "      <td>3.642977</td>\n",
       "      <td>20.959280</td>\n",
       "      <td>6.896499</td>\n",
       "      <td>53.593661</td>\n",
       "      <td>0</td>\n",
       "    </tr>\n",
       "    <tr>\n",
       "      <th>4</th>\n",
       "      <td>88.726562</td>\n",
       "      <td>40.672225</td>\n",
       "      <td>0.600866</td>\n",
       "      <td>1.123492</td>\n",
       "      <td>1.178930</td>\n",
       "      <td>11.468720</td>\n",
       "      <td>14.269573</td>\n",
       "      <td>252.567306</td>\n",
       "      <td>0</td>\n",
       "    </tr>\n",
       "    <tr>\n",
       "      <th>...</th>\n",
       "      <td>...</td>\n",
       "      <td>...</td>\n",
       "      <td>...</td>\n",
       "      <td>...</td>\n",
       "      <td>...</td>\n",
       "      <td>...</td>\n",
       "      <td>...</td>\n",
       "      <td>...</td>\n",
       "      <td>...</td>\n",
       "    </tr>\n",
       "    <tr>\n",
       "      <th>17893</th>\n",
       "      <td>136.429688</td>\n",
       "      <td>59.847421</td>\n",
       "      <td>-0.187846</td>\n",
       "      <td>-0.738123</td>\n",
       "      <td>1.296823</td>\n",
       "      <td>12.166062</td>\n",
       "      <td>15.450260</td>\n",
       "      <td>285.931022</td>\n",
       "      <td>0</td>\n",
       "    </tr>\n",
       "    <tr>\n",
       "      <th>17894</th>\n",
       "      <td>122.554688</td>\n",
       "      <td>49.485605</td>\n",
       "      <td>0.127978</td>\n",
       "      <td>0.323061</td>\n",
       "      <td>16.409699</td>\n",
       "      <td>44.626893</td>\n",
       "      <td>2.945244</td>\n",
       "      <td>8.297092</td>\n",
       "      <td>0</td>\n",
       "    </tr>\n",
       "    <tr>\n",
       "      <th>17895</th>\n",
       "      <td>119.335938</td>\n",
       "      <td>59.935939</td>\n",
       "      <td>0.159363</td>\n",
       "      <td>-0.743025</td>\n",
       "      <td>21.430602</td>\n",
       "      <td>58.872000</td>\n",
       "      <td>2.499517</td>\n",
       "      <td>4.595173</td>\n",
       "      <td>0</td>\n",
       "    </tr>\n",
       "    <tr>\n",
       "      <th>17896</th>\n",
       "      <td>114.507812</td>\n",
       "      <td>53.902400</td>\n",
       "      <td>0.201161</td>\n",
       "      <td>-0.024789</td>\n",
       "      <td>1.946488</td>\n",
       "      <td>13.381731</td>\n",
       "      <td>10.007967</td>\n",
       "      <td>134.238910</td>\n",
       "      <td>0</td>\n",
       "    </tr>\n",
       "    <tr>\n",
       "      <th>17897</th>\n",
       "      <td>57.062500</td>\n",
       "      <td>85.797340</td>\n",
       "      <td>1.406391</td>\n",
       "      <td>0.089520</td>\n",
       "      <td>188.306020</td>\n",
       "      <td>64.712562</td>\n",
       "      <td>-1.597527</td>\n",
       "      <td>1.429475</td>\n",
       "      <td>0</td>\n",
       "    </tr>\n",
       "  </tbody>\n",
       "</table>\n",
       "<p>16259 rows × 9 columns</p>\n",
       "</div>"
      ],
      "text/plain": [
       "        Mean of the integrated profile  \\\n",
       "0                           140.562500   \n",
       "1                           102.507812   \n",
       "2                           103.015625   \n",
       "3                           136.750000   \n",
       "4                            88.726562   \n",
       "...                                ...   \n",
       "17893                       136.429688   \n",
       "17894                       122.554688   \n",
       "17895                       119.335938   \n",
       "17896                       114.507812   \n",
       "17897                        57.062500   \n",
       "\n",
       "        Standard deviation of the integrated profile  \\\n",
       "0                                          55.683782   \n",
       "1                                          58.882430   \n",
       "2                                          39.341649   \n",
       "3                                          57.178449   \n",
       "4                                          40.672225   \n",
       "...                                              ...   \n",
       "17893                                      59.847421   \n",
       "17894                                      49.485605   \n",
       "17895                                      59.935939   \n",
       "17896                                      53.902400   \n",
       "17897                                      85.797340   \n",
       "\n",
       "        Excess kurtosis of the integrated profile  \\\n",
       "0                                       -0.234571   \n",
       "1                                        0.465318   \n",
       "2                                        0.323328   \n",
       "3                                       -0.068415   \n",
       "4                                        0.600866   \n",
       "...                                           ...   \n",
       "17893                                   -0.187846   \n",
       "17894                                    0.127978   \n",
       "17895                                    0.159363   \n",
       "17896                                    0.201161   \n",
       "17897                                    1.406391   \n",
       "\n",
       "        Skewness of the integrated profile   Mean of the DM-SNR curve  \\\n",
       "0                                -0.699648                   3.199833   \n",
       "1                                -0.515088                   1.677258   \n",
       "2                                 1.051164                   3.121237   \n",
       "3                                -0.636238                   3.642977   \n",
       "4                                 1.123492                   1.178930   \n",
       "...                                    ...                        ...   \n",
       "17893                            -0.738123                   1.296823   \n",
       "17894                             0.323061                  16.409699   \n",
       "17895                            -0.743025                  21.430602   \n",
       "17896                            -0.024789                   1.946488   \n",
       "17897                             0.089520                 188.306020   \n",
       "\n",
       "        Standard deviation of the DM-SNR curve  \\\n",
       "0                                    19.110426   \n",
       "1                                    14.860146   \n",
       "2                                    21.744669   \n",
       "3                                    20.959280   \n",
       "4                                    11.468720   \n",
       "...                                        ...   \n",
       "17893                                12.166062   \n",
       "17894                                44.626893   \n",
       "17895                                58.872000   \n",
       "17896                                13.381731   \n",
       "17897                                64.712562   \n",
       "\n",
       "        Excess kurtosis of the DM-SNR curve   Skewness of the DM-SNR curve  \\\n",
       "0                                  7.975532                      74.242225   \n",
       "1                                 10.576487                     127.393580   \n",
       "2                                  7.735822                      63.171909   \n",
       "3                                  6.896499                      53.593661   \n",
       "4                                 14.269573                     252.567306   \n",
       "...                                     ...                            ...   \n",
       "17893                             15.450260                     285.931022   \n",
       "17894                              2.945244                       8.297092   \n",
       "17895                              2.499517                       4.595173   \n",
       "17896                             10.007967                     134.238910   \n",
       "17897                             -1.597527                       1.429475   \n",
       "\n",
       "       target_class  \n",
       "0                 0  \n",
       "1                 0  \n",
       "2                 0  \n",
       "3                 0  \n",
       "4                 0  \n",
       "...             ...  \n",
       "17893             0  \n",
       "17894             0  \n",
       "17895             0  \n",
       "17896             0  \n",
       "17897             0  \n",
       "\n",
       "[16259 rows x 9 columns]"
      ]
     },
     "execution_count": 54,
     "metadata": {},
     "output_type": "execute_result"
    }
   ],
   "source": [
    "other_data"
   ]
  },
  {
   "cell_type": "markdown",
   "metadata": {},
   "source": [
    "Now, we check the mean and standard deviations:"
   ]
  },
  {
   "cell_type": "code",
   "execution_count": 55,
   "metadata": {},
   "outputs": [
    {
     "name": "stdout",
     "output_type": "stream",
     "text": [
      "{' Mean of the integrated profile': 56.690607840146434, ' Standard deviation of the integrated profile': 38.71059825091519, ' Excess kurtosis of the integrated profile': 3.1306553846644296, ' Skewness of the integrated profile': 15.553576032483223, ' Mean of the DM-SNR curve': 49.825995131519825, ' Standard deviation of the DM-SNR curve': 56.46896295494326, ' Excess kurtosis of the DM-SNR curve': 2.7570685762983524, ' Skewness of the DM-SNR curve': 17.93172838452288}\n"
     ]
    }
   ],
   "source": [
    "pulsar_means = {}\n",
    "for i in pulsars_data.columns[0:-1]:\n",
    "    pulsar_means[i] = pulsars_data[i].mean()\n",
    "print(pulsar_means)"
   ]
  },
  {
   "cell_type": "code",
   "execution_count": 56,
   "metadata": {},
   "outputs": [
    {
     "name": "stdout",
     "output_type": "stream",
     "text": [
      "{' Mean of the integrated profile': 30.007706927191276, ' Standard deviation of the integrated profile': 8.033614293456413, ' Excess kurtosis of the integrated profile': 1.8728606667014076, ' Skewness of the integrated profile': 13.997200124802166, ' Mean of the DM-SNR curve': 45.28793155215812, ' Standard deviation of the DM-SNR curve': 19.731079675872923, ' Excess kurtosis of the DM-SNR curve': 3.105944884678896, ' Skewness of the DM-SNR curve': 50.89626328604442}\n"
     ]
    }
   ],
   "source": [
    "pulsar_stdev = {}\n",
    "for i in pulsars_data.columns[0:-1]:\n",
    "    pulsar_stdev[i] = pulsars_data[i].std()\n",
    "print(pulsar_stdev)"
   ]
  },
  {
   "cell_type": "code",
   "execution_count": 57,
   "metadata": {},
   "outputs": [
    {
     "name": "stdout",
     "output_type": "stream",
     "text": [
      "{' Mean of the integrated profile': 116.56272631696291, ' Standard deviation of the integrated profile': 47.339740780803865, ' Excess kurtosis of the integrated profile': 0.21044006581235009, ' Skewness of the integrated profile': 0.3808439873449167, ' Mean of the DM-SNR curve': 8.863258445408636, ' Standard deviation of the DM-SNR curve': 23.2879838789337, ' Excess kurtosis of the DM-SNR curve': 8.862673717881728, ' Skewness of the DM-SNR curve': 113.6203436592601}\n"
     ]
    }
   ],
   "source": [
    "other_means = {}\n",
    "for i in other_data.columns[0:-1]:\n",
    "    other_means[i] = other_data[i].mean()\n",
    "print(other_means)"
   ]
  },
  {
   "cell_type": "code",
   "execution_count": 58,
   "metadata": {},
   "outputs": [
    {
     "name": "stdout",
     "output_type": "stream",
     "text": [
      "{' Mean of the integrated profile': 17.475932491353536, ' Standard deviation of the integrated profile': 6.182929175463714, ' Excess kurtosis of the integrated profile': 0.33460598727149343, ' Skewness of the integrated profile': 1.0277909733619077, ' Mean of the DM-SNR curve': 24.411409122847644, ' Standard deviation of the DM-SNR curve': 16.651425782992003, ' Excess kurtosis of the DM-SNR curve': 4.23862551337495, ' Skewness of the DM-SNR curve': 106.7219303854445}\n"
     ]
    }
   ],
   "source": [
    "other_stdev = {}\n",
    "for i in other_data.columns[0:-1]:\n",
    "    other_stdev[i] = other_data[i].std()\n",
    "print(other_stdev)"
   ]
  },
  {
   "cell_type": "markdown",
   "metadata": {},
   "source": [
    "We'll assume these distrobutions are approximately Gaussian to simplify calculations.  To find the best discriminator, we wish to see how far apart the distrobutions for each of the different attributes are.  We can find this by taking the mean and shifting along the distrobution by one standard deviation.  We now take our dummy points at each of these and find the directed distance between them by subtracting whatever the larger mean's shifted point is from the smaller mean's shifted point.  If the number is positive, the points are still on the proper sides and the distrobutions do not overlap at that distance.  If the number is negative, the distrobutions have overlapped by an amount proportional to the value."
   ]
  },
  {
   "cell_type": "code",
   "execution_count": 59,
   "metadata": {},
   "outputs": [
    {
     "name": "stdout",
     "output_type": "stream",
     "text": [
      "{' Mean of the integrated profile': 0.412843243515083, ' Standard deviation of the integrated profile': -0.6955027631314759, ' Excess kurtosis of the integrated profile': 0.380566839568751, ' Skewness of the integrated profile': 0.01055503569692087, ' Mean of the DM-SNR curve': -0.6345311654562678, ' Standard deviation of the DM-SNR curve': -0.16225804342426275, ' Excess kurtosis of the DM-SNR curve': -0.2923035433446349, ' Skewness of the DM-SNR curve': -0.5802891511902234}\n"
     ]
    }
   ],
   "source": [
    "first_overlap = {}\n",
    "for i in pulsar_means.keys():\n",
    "    if (pulsar_means[i] > other_means[i]):\n",
    "        first_overlap[i] = ((pulsar_means[i] - pulsar_stdev[i]) - (other_means[i] + other_stdev[i]))/max(pulsar_stdev[i], other_stdev[i])\n",
    "    elif (pulsar_means[i] < other_means[i]):\n",
    "        first_overlap[i] = ((other_means[i] - other_stdev[i]) - (pulsar_means[i] + pulsar_stdev[i]))/max(pulsar_stdev[i], other_stdev[i])\n",
    "    else:\n",
    "        first_overlap[i] = 0\n",
    "print(first_overlap)"
   ]
  },
  {
   "cell_type": "markdown",
   "metadata": {},
   "source": [
    "From the results, we can already see that the `Mean of the integrated profile` and the `Excess kurtosis of the integrated profile` are the best discriminators.  While both are close, it appears that the `Mean of the integrated profile` is the optimal choice for distinguishing pulsars from non-pulsars."
   ]
  },
  {
   "cell_type": "markdown",
   "metadata": {},
   "source": [
    "## Testing the Effectiveness of the Discriminator"
   ]
  },
  {
   "cell_type": "markdown",
   "metadata": {},
   "source": [
    "As a first order of business, let's graph the values of the dataset by their `Mean of the Integrate Profile` value."
   ]
  },
  {
   "cell_type": "code",
   "execution_count": 60,
   "metadata": {},
   "outputs": [
    {
     "data": {
      "image/png": "[encoded data removed]",
      "text/plain": [
       "<Figure size 432x288 with 1 Axes>"
      ]
     },
     "metadata": {
      "needs_background": "light"
     },
     "output_type": "display_data"
    }
   ],
   "source": [
    "plt.scatter(data[' Mean of the integrated profile'], data[\"target_class\"], s = 1)\n",
    "plt.xlabel(xlabel=\"Mean of the integrated profile\")\n",
    "plt.ylabel(ylabel=\"Class\")\n",
    "plt.show()"
   ]
  },
  {
   "cell_type": "markdown",
   "metadata": {},
   "source": [
    "Immediately from looking at the graph, we can tell that this is insufficeint as a discriminator.  While there is some degree of splitting of the data, there is still a large region of overlap from approximately $x=55$ to $x=125$.  Thus, to find a better set of values, we may employ Linear Diiscriminant Analysis."
   ]
  },
  {
   "cell_type": "code",
   "execution_count": 61,
   "metadata": {},
   "outputs": [],
   "source": [
    "lda = LinearDiscriminantAnalysis(solver='svd')\n",
    "X_r2 = lda.fit(data.drop('target_class', axis=1).values, data['target_class'].values).transform(data.drop('target_class', axis=1).values)"
   ]
  },
  {
   "cell_type": "code",
   "execution_count": 62,
   "metadata": {},
   "outputs": [
    {
     "name": "stdout",
     "output_type": "stream",
     "text": [
      "[[-1.2414112 ]\n",
      " [-0.17036772]\n",
      " [-0.50111122]\n",
      " ...\n",
      " [ 0.40515724]\n",
      " [-0.73757723]\n",
      " [ 1.45585604]]\n"
     ]
    }
   ],
   "source": [
    "print(X_r2)"
   ]
  },
  {
   "cell_type": "code",
   "execution_count": 63,
   "metadata": {},
   "outputs": [
    {
     "data": {
      "image/png": "[encoded data removed]",
      "text/plain": [
       "<Figure size 432x288 with 1 Axes>"
      ]
     },
     "metadata": {
      "needs_background": "light"
     },
     "output_type": "display_data"
    }
   ],
   "source": [
    "plt.figure()\n",
    "colors = ['navy', 'darkorange']\n",
    "for color, i, target_name in zip(colors, [0, 1], [\"Not Pulsar\", \"Pulsar\"]):\n",
    "    plt.scatter(X_r2[data['target_class']==i, 0], [i for x in X_r2[data['target_class']==i, 0]], alpha=.8, color=color, label=target_name)\n",
    "plt.legend(loc='best', scatterpoints=1)\n",
    "plt.title('Linear Discriminant Analysis')\n",
    "plt.show()"
   ]
  },
  {
   "cell_type": "markdown",
   "metadata": {},
   "source": [
    "It seems that a linear relationship cannot be used to accuratly model the relationship between pulsars and other objects.  Thus, we may attempt Principle Component Analysis to see if there are any latent groups that do give us the desired relation."
   ]
  },
  {
   "cell_type": "code",
   "execution_count": 65,
   "metadata": {},
   "outputs": [],
   "source": [
    "pca = PCA(n_components=2)\n",
    "X_r = pca.fit(data.drop('target_class', axis=1).values).transform(data.drop('target_class', axis=1).values)"
   ]
  },
  {
   "cell_type": "code",
   "execution_count": 68,
   "metadata": {},
   "outputs": [
    {
     "data": {
      "text/plain": [
       "array([[ -27.19108609,  -29.67787512],\n",
       "       [  24.47621492,   -6.02417549],\n",
       "       [ -39.9389202 ,  -10.82804841],\n",
       "       ...,\n",
       "       [-103.26847503,   -0.56354417],\n",
       "       [  31.796009  ,  -10.97930561],\n",
       "       [-127.59036344,  157.16061503]])"
      ]
     },
     "execution_count": 68,
     "metadata": {},
     "output_type": "execute_result"
    }
   ],
   "source": [
    "X_r"
   ]
  },
  {
   "cell_type": "code",
   "execution_count": 73,
   "metadata": {},
   "outputs": [
    {
     "data": {
      "image/png": "[encoded data removed]",
      "text/plain": [
       "<Figure size 432x288 with 1 Axes>"
      ]
     },
     "metadata": {
      "needs_background": "light"
     },
     "output_type": "display_data"
    }
   ],
   "source": [
    "plt.figure()\n",
    "colors = ['navy', 'darkorange']\n",
    "lw = 2\n",
    "for color, i, target_name in zip(colors, [0, 1], [\"Not Pulsar\", \"Pulsar\"]):\n",
    "    plt.scatter(X_r[data['target_class']==i, 0], X_r[data['target_class']==i, 1], lw = lw, alpha=.6, color=color, label=target_name)\n",
    "plt.legend(loc='best', scatterpoints=1)\n",
    "plt.title('Principal Component Analysis')\n",
    "plt.show()"
   ]
  },
  {
   "cell_type": "markdown",
   "metadata": {},
   "source": [
    "Unfortuantely, this still does not produce a clear result as to which objects are pulsars.  However, this is not surprising; classifying interstellar objects is a difficult task, and the methods attempted here were relatively unsophisticated.  Problems like this one, which have clear structure but are difficult to model, help provide motivation for the ongoing research in machine learning."
   ]
  },
  {
   "cell_type": "markdown",
   "metadata": {},
   "source": [
    "## Sources\n",
    "[1] \n",
    "Paper: R. J. Lyon, B. W. Stappers, S. Cooper, J. M. Brooke, J. D. Knowles, Fifty Years of Pulsar Candidate Selection: From simple filters to a new principled real-time classification approach, Monthly Notices of the Royal Astronomical Society 459 (1), 1104-1123, DOI: 10.1093/mnras/stw656 https://arxiv.org/pdf/1603.05166.pdf\n",
    "\n",
    "Data Set: R. J. Lyon, HTRU2, DOI: 10.6084/m9.figshare.3080389.v1.\n",
    "\n",
    "[2] K. Liu, IPTA 2017 Student Workshop, http://ipta.phys.wvu.edu/files/student-week-2017/IPTA2017_KuoLiu_pulsartiming.pdf\n",
    "\n",
    "[3] National Radia Astronomy Observatory, 2012 https://www.cv.nrao.edu/course/astr534/PulsarTiming.html\n",
    "\n",
    "[4] Wikimedia Commons, Accessed 12/4/2019 https://en.wikipedia.org/wiki/File:Negative_and_positive_skew_diagrams_(English).svg"
   ]
  },
  {
   "cell_type": "code",
   "execution_count": null,
   "metadata": {},
   "outputs": [],
   "source": []
  }
 ],
 "metadata": {
  "kernelspec": {
   "display_name": "Python 3",
   "language": "python",
   "name": "python3"
  },
  "language_info": {
   "codemirror_mode": {
    "name": "ipython",
    "version": 3
   },
   "file_extension": ".py",
   "mimetype": "text/x-python",
   "name": "python",
   "nbconvert_exporter": "python",
   "pygments_lexer": "ipython3",
   "version": "3.6.8"
  }
 },
 "nbformat": 4,
 "nbformat_minor": 4
}
