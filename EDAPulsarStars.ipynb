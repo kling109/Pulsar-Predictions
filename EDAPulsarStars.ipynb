{
 "cells": [
  {
   "cell_type": "code",
   "execution_count": 1,
   "metadata": {},
   "outputs": [],
   "source": [
    "import numpy as np\n",
    "import pandas as pd"
   ]
  },
  {
   "cell_type": "markdown",
   "metadata": {},
   "source": [
    "# Exploratory Data Analysis: Identifying Pulsar Stars"
   ]
  },
  {
   "cell_type": "markdown",
   "metadata": {},
   "source": [
    "Name: Trevor Kling\n",
    "\n",
    "Course: CPSC 392 - Introduction to Data Science\n",
    "\n",
    "Last Date Modified: 12/03/2019\n",
    "\n",
    "## Introduction\n",
    "A \"pulsar\" is a rare type of neutron star that emits electromagnetic radiation which is perceptible from Earth.  However, like any radiation from space, this is accompanied by a large degree of cosmic background radiation which can make it difficult to percieve where and when pulsars occur.  The following data set documents a variety of stars which met conditions to be pulsars, as well as labels for these stars which indicate whether they truly were pulsars.  Pulsars offer the ability to document a variety of large-scale cosmic phenomena like gravitational waves or the curvature of spacetime.  Thus, being able to correctly identify where pulsars exist is an important question to astronomers."
   ]
  },
  {
   "cell_type": "markdown",
   "metadata": {},
   "source": [
    "## Importing the Data Set\n",
    "\n",
    "The dataset used for this analysis was obtained from the paper \"Fifty Years of Pulsar Candidate Selection: From simple filters to a new principled real-time classification approach\" by R. J. Lyon et al., originally published in Monthly Notices of the Royal Astronomical Society 459 [[1](https://arxiv.org/pdf/1603.05166.pdf)].  The actual files were retreived from the UCI Machine Learning Database at https://archive.ics.uci.edu/ml/datasets/HTRU2 on 12/3/2019."
   ]
  },
  {
   "cell_type": "code",
   "execution_count": 2,
   "metadata": {},
   "outputs": [],
   "source": [
    "data = pd.read_csv(\"pulsar_stars.csv\", header=0)"
   ]
  },
  {
   "cell_type": "code",
   "execution_count": 3,
   "metadata": {},
   "outputs": [
    {
     "data": {
      "text/html": [
       "<div>\n",
       "<style scoped>\n",
       "    .dataframe tbody tr th:only-of-type {\n",
       "        vertical-align: middle;\n",
       "    }\n",
       "\n",
       "    .dataframe tbody tr th {\n",
       "        vertical-align: top;\n",
       "    }\n",
       "\n",
       "    .dataframe thead th {\n",
       "        text-align: right;\n",
       "    }\n",
       "</style>\n",
       "<table border=\"1\" class=\"dataframe\">\n",
       "  <thead>\n",
       "    <tr style=\"text-align: right;\">\n",
       "      <th></th>\n",
       "      <th>Mean of the integrated profile</th>\n",
       "      <th>Standard deviation of the integrated profile</th>\n",
       "      <th>Excess kurtosis of the integrated profile</th>\n",
       "      <th>Skewness of the integrated profile</th>\n",
       "      <th>Mean of the DM-SNR curve</th>\n",
       "      <th>Standard deviation of the DM-SNR curve</th>\n",
       "      <th>Excess kurtosis of the DM-SNR curve</th>\n",
       "      <th>Skewness of the DM-SNR curve</th>\n",
       "      <th>target_class</th>\n",
       "    </tr>\n",
       "  </thead>\n",
       "  <tbody>\n",
       "    <tr>\n",
       "      <th>0</th>\n",
       "      <td>140.562500</td>\n",
       "      <td>55.683782</td>\n",
       "      <td>-0.234571</td>\n",
       "      <td>-0.699648</td>\n",
       "      <td>3.199833</td>\n",
       "      <td>19.110426</td>\n",
       "      <td>7.975532</td>\n",
       "      <td>74.242225</td>\n",
       "      <td>0</td>\n",
       "    </tr>\n",
       "    <tr>\n",
       "      <th>1</th>\n",
       "      <td>102.507812</td>\n",
       "      <td>58.882430</td>\n",
       "      <td>0.465318</td>\n",
       "      <td>-0.515088</td>\n",
       "      <td>1.677258</td>\n",
       "      <td>14.860146</td>\n",
       "      <td>10.576487</td>\n",
       "      <td>127.393580</td>\n",
       "      <td>0</td>\n",
       "    </tr>\n",
       "    <tr>\n",
       "      <th>2</th>\n",
       "      <td>103.015625</td>\n",
       "      <td>39.341649</td>\n",
       "      <td>0.323328</td>\n",
       "      <td>1.051164</td>\n",
       "      <td>3.121237</td>\n",
       "      <td>21.744669</td>\n",
       "      <td>7.735822</td>\n",
       "      <td>63.171909</td>\n",
       "      <td>0</td>\n",
       "    </tr>\n",
       "    <tr>\n",
       "      <th>3</th>\n",
       "      <td>136.750000</td>\n",
       "      <td>57.178449</td>\n",
       "      <td>-0.068415</td>\n",
       "      <td>-0.636238</td>\n",
       "      <td>3.642977</td>\n",
       "      <td>20.959280</td>\n",
       "      <td>6.896499</td>\n",
       "      <td>53.593661</td>\n",
       "      <td>0</td>\n",
       "    </tr>\n",
       "    <tr>\n",
       "      <th>4</th>\n",
       "      <td>88.726562</td>\n",
       "      <td>40.672225</td>\n",
       "      <td>0.600866</td>\n",
       "      <td>1.123492</td>\n",
       "      <td>1.178930</td>\n",
       "      <td>11.468720</td>\n",
       "      <td>14.269573</td>\n",
       "      <td>252.567306</td>\n",
       "      <td>0</td>\n",
       "    </tr>\n",
       "    <tr>\n",
       "      <th>...</th>\n",
       "      <td>...</td>\n",
       "      <td>...</td>\n",
       "      <td>...</td>\n",
       "      <td>...</td>\n",
       "      <td>...</td>\n",
       "      <td>...</td>\n",
       "      <td>...</td>\n",
       "      <td>...</td>\n",
       "      <td>...</td>\n",
       "    </tr>\n",
       "    <tr>\n",
       "      <th>17893</th>\n",
       "      <td>136.429688</td>\n",
       "      <td>59.847421</td>\n",
       "      <td>-0.187846</td>\n",
       "      <td>-0.738123</td>\n",
       "      <td>1.296823</td>\n",
       "      <td>12.166062</td>\n",
       "      <td>15.450260</td>\n",
       "      <td>285.931022</td>\n",
       "      <td>0</td>\n",
       "    </tr>\n",
       "    <tr>\n",
       "      <th>17894</th>\n",
       "      <td>122.554688</td>\n",
       "      <td>49.485605</td>\n",
       "      <td>0.127978</td>\n",
       "      <td>0.323061</td>\n",
       "      <td>16.409699</td>\n",
       "      <td>44.626893</td>\n",
       "      <td>2.945244</td>\n",
       "      <td>8.297092</td>\n",
       "      <td>0</td>\n",
       "    </tr>\n",
       "    <tr>\n",
       "      <th>17895</th>\n",
       "      <td>119.335938</td>\n",
       "      <td>59.935939</td>\n",
       "      <td>0.159363</td>\n",
       "      <td>-0.743025</td>\n",
       "      <td>21.430602</td>\n",
       "      <td>58.872000</td>\n",
       "      <td>2.499517</td>\n",
       "      <td>4.595173</td>\n",
       "      <td>0</td>\n",
       "    </tr>\n",
       "    <tr>\n",
       "      <th>17896</th>\n",
       "      <td>114.507812</td>\n",
       "      <td>53.902400</td>\n",
       "      <td>0.201161</td>\n",
       "      <td>-0.024789</td>\n",
       "      <td>1.946488</td>\n",
       "      <td>13.381731</td>\n",
       "      <td>10.007967</td>\n",
       "      <td>134.238910</td>\n",
       "      <td>0</td>\n",
       "    </tr>\n",
       "    <tr>\n",
       "      <th>17897</th>\n",
       "      <td>57.062500</td>\n",
       "      <td>85.797340</td>\n",
       "      <td>1.406391</td>\n",
       "      <td>0.089520</td>\n",
       "      <td>188.306020</td>\n",
       "      <td>64.712562</td>\n",
       "      <td>-1.597527</td>\n",
       "      <td>1.429475</td>\n",
       "      <td>0</td>\n",
       "    </tr>\n",
       "  </tbody>\n",
       "</table>\n",
       "<p>17898 rows × 9 columns</p>\n",
       "</div>"
      ],
      "text/plain": [
       "        Mean of the integrated profile  \\\n",
       "0                           140.562500   \n",
       "1                           102.507812   \n",
       "2                           103.015625   \n",
       "3                           136.750000   \n",
       "4                            88.726562   \n",
       "...                                ...   \n",
       "17893                       136.429688   \n",
       "17894                       122.554688   \n",
       "17895                       119.335938   \n",
       "17896                       114.507812   \n",
       "17897                        57.062500   \n",
       "\n",
       "        Standard deviation of the integrated profile  \\\n",
       "0                                          55.683782   \n",
       "1                                          58.882430   \n",
       "2                                          39.341649   \n",
       "3                                          57.178449   \n",
       "4                                          40.672225   \n",
       "...                                              ...   \n",
       "17893                                      59.847421   \n",
       "17894                                      49.485605   \n",
       "17895                                      59.935939   \n",
       "17896                                      53.902400   \n",
       "17897                                      85.797340   \n",
       "\n",
       "        Excess kurtosis of the integrated profile  \\\n",
       "0                                       -0.234571   \n",
       "1                                        0.465318   \n",
       "2                                        0.323328   \n",
       "3                                       -0.068415   \n",
       "4                                        0.600866   \n",
       "...                                           ...   \n",
       "17893                                   -0.187846   \n",
       "17894                                    0.127978   \n",
       "17895                                    0.159363   \n",
       "17896                                    0.201161   \n",
       "17897                                    1.406391   \n",
       "\n",
       "        Skewness of the integrated profile   Mean of the DM-SNR curve  \\\n",
       "0                                -0.699648                   3.199833   \n",
       "1                                -0.515088                   1.677258   \n",
       "2                                 1.051164                   3.121237   \n",
       "3                                -0.636238                   3.642977   \n",
       "4                                 1.123492                   1.178930   \n",
       "...                                    ...                        ...   \n",
       "17893                            -0.738123                   1.296823   \n",
       "17894                             0.323061                  16.409699   \n",
       "17895                            -0.743025                  21.430602   \n",
       "17896                            -0.024789                   1.946488   \n",
       "17897                             0.089520                 188.306020   \n",
       "\n",
       "        Standard deviation of the DM-SNR curve  \\\n",
       "0                                    19.110426   \n",
       "1                                    14.860146   \n",
       "2                                    21.744669   \n",
       "3                                    20.959280   \n",
       "4                                    11.468720   \n",
       "...                                        ...   \n",
       "17893                                12.166062   \n",
       "17894                                44.626893   \n",
       "17895                                58.872000   \n",
       "17896                                13.381731   \n",
       "17897                                64.712562   \n",
       "\n",
       "        Excess kurtosis of the DM-SNR curve   Skewness of the DM-SNR curve  \\\n",
       "0                                  7.975532                      74.242225   \n",
       "1                                 10.576487                     127.393580   \n",
       "2                                  7.735822                      63.171909   \n",
       "3                                  6.896499                      53.593661   \n",
       "4                                 14.269573                     252.567306   \n",
       "...                                     ...                            ...   \n",
       "17893                             15.450260                     285.931022   \n",
       "17894                              2.945244                       8.297092   \n",
       "17895                              2.499517                       4.595173   \n",
       "17896                             10.007967                     134.238910   \n",
       "17897                             -1.597527                       1.429475   \n",
       "\n",
       "       target_class  \n",
       "0                 0  \n",
       "1                 0  \n",
       "2                 0  \n",
       "3                 0  \n",
       "4                 0  \n",
       "...             ...  \n",
       "17893             0  \n",
       "17894             0  \n",
       "17895             0  \n",
       "17896             0  \n",
       "17897             0  \n",
       "\n",
       "[17898 rows x 9 columns]"
      ]
     },
     "execution_count": 3,
     "metadata": {},
     "output_type": "execute_result"
    }
   ],
   "source": [
    "data"
   ]
  },
  {
   "cell_type": "markdown",
   "metadata": {},
   "source": [
    "The dataset includes a variety of extended statistics, such as the mean, the standard deviation, the kurtosis, and the skewness.  The primary goal of the dataset is to allow for the production of a model of these pulsars based on these statistics."
   ]
  },
  {
   "cell_type": "markdown",
   "metadata": {},
   "source": [
    "## Analysis: Basic Trends\n",
    "\n",
    "The first questions of interest simply relate to understanding the data set as a whole."
   ]
  },
  {
   "cell_type": "markdown",
   "metadata": {},
   "source": [
    "### Data Set Size and Types"
   ]
  },
  {
   "cell_type": "code",
   "execution_count": 4,
   "metadata": {},
   "outputs": [
    {
     "data": {
      "text/plain": [
       "(17898, 9)"
      ]
     },
     "execution_count": 4,
     "metadata": {},
     "output_type": "execute_result"
    }
   ],
   "source": [
    "data.shape"
   ]
  },
  {
   "cell_type": "markdown",
   "metadata": {},
   "source": [
    "The pandas `shape` attribute gives us the dimensions of our data matrix.  From this, we can clearly see that there are 17898 rows (or entries) and 9 columns (or attributes)."
   ]
  },
  {
   "cell_type": "markdown",
   "metadata": {},
   "source": [
    "### Breaking Down the Attributes"
   ]
  },
  {
   "cell_type": "markdown",
   "metadata": {},
   "source": [
    "The data contained in this data matrix can be widely classified in two types; those relating to the integrated profile, and those relating to the DM-SNR curve.\n",
    "\n",
    "#### The Integrated Profile\n",
    "\n",
    "The *integrated profile*, or more formally the *integrated pulse profile*, can be thought of as a pulsar's cosmic fingerprint [[2](http://ipta.phys.wvu.edu/files/student-week-2017/IPTA2017_KuoLiu_pulsartiming.pdf)].  A pulsar generates periodic pulsation signals as it rotates, but each individual signal is often too weak to detect and can vary greatly in shape.  Instead, we integrate over a large number of instantaneous pulse periods to gain an overall profile of what the emissions from the pulsar look like over a substantial periood of time [[3](https://www.cv.nrao.edu/course/astr534/PulsarTiming.html)].  This allows us to determine an average pulse, which is relatively stable with changes in time.  These profiles can be simple or complex, and allow us to identify pulsars by only their radiation.\n",
    "\n",
    "#### DM-SNR Curve\n",
    "\n",
    "The *Dispersion Measure-Signal to Noise Ratio Curve*, or *DM-SNR Curve* for short, is another way of classifying a pulsar.  When the pulsar emits electromagnetic radiation, the dispersion by free electrons in the interstellar medium (a bunch of plasma, made up of ionized electrons and other small particles) causes a frequency dependent delay in the radiation as it propagates through the interstellar medium. This causes pulsar emissions to become temporally distorted, by an amount proportional to a quantity called the Dispersion Measure.  This is roughly the density of free electrons between our observatory and the pulsar, in a straight line.  Importantly, for a pulsar, minimizing this Dispersion Measure also corresponds to increasing the Signal to Noise ratio of the received radiation."
   ]
  },
  {
   "cell_type": "markdown",
   "metadata": {},
   "source": [
    "#### The Actual Attributes\n",
    "\n",
    "In the data set, both the Integrated Profile and the DM-SNR curve have 4 attributes; *Mean*, *Standard Deviation*, *Excess Kurtosis*, and *Skewness*.  The mean and standard deviation are exactly what you would expect; they're the arithmetic mean and standard deviation of the observed values.  The kurtosis and skewness may be less familiar; these are what are known as *shape* summary statistics.  Both of these variables describe the shape of a probability distrobution for the given instance; a high kurtosis indicates the presence of many outliers, and a large skewness indicates a longer tail on one side of the distrobution.\n",
    "\n",
    "![Example of Skew](https://upload.wikimedia.org/wikipedia/commons/f/f8/Negative_and_positive_skew_diagrams_%28English%29.svg)\n",
    "\n",
    "**Figure 1: An Example of Skew [[4](https://en.wikipedia.org/wiki/Skewness)]**"
   ]
  },
  {
   "cell_type": "markdown",
   "metadata": {},
   "source": [
    "### Checking for Missing Values"
   ]
  },
  {
   "cell_type": "code",
   "execution_count": 5,
   "metadata": {},
   "outputs": [
    {
     "name": "stdout",
     "output_type": "stream",
     "text": [
      "Empty DataFrame\n",
      "Columns: [ Mean of the integrated profile,  Standard deviation of the integrated profile,  Excess kurtosis of the integrated profile,  Skewness of the integrated profile,  Mean of the DM-SNR curve,  Standard deviation of the DM-SNR curve,  Excess kurtosis of the DM-SNR curve,  Skewness of the DM-SNR curve, target_class]\n",
      "Index: []\n"
     ]
    }
   ],
   "source": [
    "nulls = data[data.isnull().any(axis=1)]\n",
    "print(nulls)"
   ]
  },
  {
   "cell_type": "markdown",
   "metadata": {},
   "source": [
    "There are no entries in this data set which contain null values.  This is unsurprising, as this data set was produced for scientific study based on averages and has likely already undergone basic analysis."
   ]
  },
  {
   "cell_type": "markdown",
   "metadata": {},
   "source": [
    "## Extended Analysis: Preferred Indicator\n",
    "\n",
    "As the data set presents us with two groups of similar attributes, a natural question is which group provides a better indicator that a particular instance is a pulsar.  One method of determining this is to look at the summary statistics within the set of instances that *are* pulsars versus the summary statistics of those that *are not* pulsars.  For a good discriminator, the expectation would be observably different mean values with low standard deviations; in other words, the distrobutions of each should have little overlap."
   ]
  },
  {
   "cell_type": "markdown",
   "metadata": {},
   "source": [
    "## Sources\n",
    "[1] \n",
    "Paper: R. J. Lyon, B. W. Stappers, S. Cooper, J. M. Brooke, J. D. Knowles, Fifty Years of Pulsar Candidate Selection: From simple filters to a new principled real-time classification approach, Monthly Notices of the Royal Astronomical Society 459 (1), 1104-1123, DOI: 10.1093/mnras/stw656 https://arxiv.org/pdf/1603.05166.pdf\n",
    "\n",
    "Data Set: R. J. Lyon, HTRU2, DOI: 10.6084/m9.figshare.3080389.v1.\n",
    "\n",
    "[2] K. Liu, IPTA 2017 Student Workshop, http://ipta.phys.wvu.edu/files/student-week-2017/IPTA2017_KuoLiu_pulsartiming.pdf\n",
    "\n",
    "[3] National Radia Astronomy Observatory, 2012 https://www.cv.nrao.edu/course/astr534/PulsarTiming.html\n",
    "\n",
    "[4] Wikimedia Commons, Accessed 12/4/2019 https://en.wikipedia.org/wiki/File:Negative_and_positive_skew_diagrams_(English).svg"
   ]
  },
  {
   "cell_type": "code",
   "execution_count": null,
   "metadata": {},
   "outputs": [],
   "source": []
  }
 ],
 "metadata": {
  "kernelspec": {
   "display_name": "Python 3",
   "language": "python",
   "name": "python3"
  },
  "language_info": {
   "codemirror_mode": {
    "name": "ipython",
    "version": 3
   },
   "file_extension": ".py",
   "mimetype": "text/x-python",
   "name": "python",
   "nbconvert_exporter": "python",
   "pygments_lexer": "ipython3",
   "version": "3.6.8"
  }
 },
 "nbformat": 4,
 "nbformat_minor": 4
}
